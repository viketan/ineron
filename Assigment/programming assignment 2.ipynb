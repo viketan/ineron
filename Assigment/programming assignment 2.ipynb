{
 "cells": [
  {
   "cell_type": "code",
   "execution_count": 1,
   "id": "292e12a9",
   "metadata": {},
   "outputs": [],
   "source": [
    "#1. Write a Python program to convert kilometers to miles?"
   ]
  },
  {
   "cell_type": "code",
   "execution_count": 2,
   "id": "4df9bde7",
   "metadata": {},
   "outputs": [
    {
     "name": "stdout",
     "output_type": "stream",
     "text": [
      "3.106855\n"
     ]
    }
   ],
   "source": [
    "km = 5\n",
    "miles = km * 0.621371\n",
    "print(miles)"
   ]
  },
  {
   "cell_type": "code",
   "execution_count": 3,
   "id": "1826455e",
   "metadata": {},
   "outputs": [],
   "source": [
    "#2. Write a Python program to convert Celsius to Fahrenheit?"
   ]
  },
  {
   "cell_type": "code",
   "execution_count": 4,
   "id": "4f6aef0a",
   "metadata": {},
   "outputs": [
    {
     "name": "stdout",
     "output_type": "stream",
     "text": [
      "99.5\n"
     ]
    }
   ],
   "source": [
    "celsius = 37.5\n",
    "Fahrenheit = (celsius *(9/5))+32\n",
    "print(Fahrenheit)"
   ]
  },
  {
   "cell_type": "code",
   "execution_count": 5,
   "id": "89122da2",
   "metadata": {},
   "outputs": [],
   "source": [
    "#3. Write a Python program to display calendar?"
   ]
  },
  {
   "cell_type": "code",
   "execution_count": 6,
   "id": "b310946c",
   "metadata": {},
   "outputs": [
    {
     "name": "stdout",
     "output_type": "stream",
     "text": [
      "      May 2022\n",
      "Mo Tu We Th Fr Sa Su\n",
      "                   1\n",
      " 2  3  4  5  6  7  8\n",
      " 9 10 11 12 13 14 15\n",
      "16 17 18 19 20 21 22\n",
      "23 24 25 26 27 28 29\n",
      "30 31\n",
      "\n"
     ]
    }
   ],
   "source": [
    "import calendar\n",
    "yy = 2022 \n",
    "mm = 5    \n",
    "print(calendar.month(yy, mm))"
   ]
  },
  {
   "cell_type": "code",
   "execution_count": 7,
   "id": "cdbb6f3c",
   "metadata": {},
   "outputs": [],
   "source": [
    "#4. Write a Python program to solve quadratic equation?"
   ]
  },
  {
   "cell_type": "code",
   "execution_count": 8,
   "id": "55fce719",
   "metadata": {},
   "outputs": [],
   "source": [
    "import cmath"
   ]
  },
  {
   "cell_type": "code",
   "execution_count": 9,
   "id": "15ea1c98",
   "metadata": {},
   "outputs": [],
   "source": [
    "a = 1\n",
    "b = 5\n",
    "c = 6"
   ]
  },
  {
   "cell_type": "code",
   "execution_count": 10,
   "id": "dd0c56f1",
   "metadata": {},
   "outputs": [],
   "source": [
    "d = (b**2) - (4*a*c)"
   ]
  },
  {
   "cell_type": "code",
   "execution_count": 11,
   "id": "2c2f02e0",
   "metadata": {},
   "outputs": [],
   "source": [
    "root1 = (-b-cmath.sqrt(d))/(2*a)\n",
    "root2 = (-b+cmath.sqrt(d))/(2*a)"
   ]
  },
  {
   "cell_type": "code",
   "execution_count": 13,
   "id": "9afc66cc",
   "metadata": {},
   "outputs": [
    {
     "name": "stdout",
     "output_type": "stream",
     "text": [
      "Roots: (-3+0j) (-2+0j)\n"
     ]
    }
   ],
   "source": [
    "print('Roots:',root1,root2)"
   ]
  },
  {
   "cell_type": "code",
   "execution_count": 14,
   "id": "b81f422b",
   "metadata": {},
   "outputs": [],
   "source": [
    "#5. Write a Python program to swap two variables without temp variable?"
   ]
  },
  {
   "cell_type": "code",
   "execution_count": 15,
   "id": "a2f50564",
   "metadata": {},
   "outputs": [
    {
     "name": "stdout",
     "output_type": "stream",
     "text": [
      "3\n",
      "6\n"
     ]
    }
   ],
   "source": [
    "num1 = 6 \n",
    "num2 = 3\n",
    "num1,num2= num2,num1\n",
    "print(num1)\n",
    "print(num2)"
   ]
  }
 ],
 "metadata": {
  "kernelspec": {
   "display_name": "Python 3 (ipykernel)",
   "language": "python",
   "name": "python3"
  },
  "language_info": {
   "codemirror_mode": {
    "name": "ipython",
    "version": 3
   },
   "file_extension": ".py",
   "mimetype": "text/x-python",
   "name": "python",
   "nbconvert_exporter": "python",
   "pygments_lexer": "ipython3",
   "version": "3.9.7"
  }
 },
 "nbformat": 4,
 "nbformat_minor": 5
}
