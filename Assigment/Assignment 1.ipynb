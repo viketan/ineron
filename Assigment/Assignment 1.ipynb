{
 "cells": [
  {
   "cell_type": "code",
   "execution_count": null,
   "id": "5b3be64f",
   "metadata": {},
   "outputs": [],
   "source": [
    "#1. In the below elements which of them are values or an expression? eg:- values can be integer or string and expressions will be mathematical operators.\n",
    "Ans: * - Expression\n",
    "'hello'- Value\n",
    "-87.8 - Value\n",
    " /    - Expression\n",
    "+     - Expression\n",
    "6     - value"
   ]
  },
  {
   "cell_type": "code",
   "execution_count": null,
   "id": "ae5cd070",
   "metadata": {},
   "outputs": [],
   "source": [
    "#2. What is the difference between string and variable?\n",
    "Ans: String is the array of characters eg. Str= “Hello”\n",
    "     Variable is the name given to memory location eg. Num=5"
   ]
  },
  {
   "cell_type": "code",
   "execution_count": null,
   "id": "5f589353",
   "metadata": {},
   "outputs": [],
   "source": [
    "#3. Describe three different data types.\n",
    "Ans: Int - to store interger value eg. num=5\n",
    "     Float - to store decimal value eg. num=5.8\n",
    "     bool - To store True or False eg. flag=True\n",
    "     str - To store text eg. str = 'viketan'"
   ]
  },
  {
   "cell_type": "code",
   "execution_count": null,
   "id": "934eb3d5",
   "metadata": {},
   "outputs": [],
   "source": [
    "#4. What is an expression made up of? What do all expressions do?\n",
    "Ans: Expression is a combination of operands and operators. Expression is used to evaluate mathematical expression."
   ]
  },
  {
   "cell_type": "code",
   "execution_count": null,
   "id": "d4ed7a26",
   "metadata": {},
   "outputs": [],
   "source": [
    "#5. This assignment statements, like spam = 10. What is the difference between an expression and a statement?\n",
    "Ans: statement - A statement is an instruction, an action or simply command.\n",
    "     expression - Expression is a combination of operands and operators that upon evaluate results in vlaue."
   ]
  },
  {
   "cell_type": "code",
   "execution_count": null,
   "id": "df00e51f",
   "metadata": {},
   "outputs": [],
   "source": [
    "#6. After running the following code, what does the variable bacon contain?\n",
    "bacon = 22\n",
    "bacon + 1\n",
    "Ans: bacon value remains same i.e 22 as it not assigned after increment."
   ]
  },
  {
   "cell_type": "code",
   "execution_count": null,
   "id": "1d9e33af",
   "metadata": {},
   "outputs": [],
   "source": [
    "#7. What should the values of the following two terms be?\n",
    "'spam' + 'spamspam'= 'spamspamspam'\n",
    "'spam' *3          ='spamspamspam'"
   ]
  },
  {
   "cell_type": "code",
   "execution_count": null,
   "id": "8d2f82cd",
   "metadata": {},
   "outputs": [],
   "source": [
    "#8. Why is eggs a valid variable name while 100 is invalid?\n",
    "Ans: 100 starts with nuberic value\n",
    "     eggs sarts with character"
   ]
  },
  {
   "cell_type": "code",
   "execution_count": null,
   "id": "c7f083ce",
   "metadata": {},
   "outputs": [],
   "source": [
    "#9. What three functions can be used to get the integer, floating-point number, or string version of a value?\n",
    "Ans: Typecasting\n",
    "     num= int(9.5)\n",
    "     num= float(9.5)\n",
    "     num= str(9.5)"
   ]
  },
  {
   "cell_type": "code",
   "execution_count": null,
   "id": "dcc092c2",
   "metadata": {},
   "outputs": [],
   "source": [
    "#10. Why does this expression cause an error? How can you fix it?\n",
    "'I have eaten ' + 99 + ' burritos.'"
   ]
  },
  {
   "cell_type": "code",
   "execution_count": 6,
   "id": "813ca194",
   "metadata": {},
   "outputs": [
    {
     "data": {
      "text/plain": [
       "'I have eaten 99 burritos.'"
      ]
     },
     "execution_count": 6,
     "metadata": {},
     "output_type": "execute_result"
    }
   ],
   "source": [
    "'I have eaten ' + str(99)+ ' burritos.'"
   ]
  },
  {
   "cell_type": "code",
   "execution_count": null,
   "id": "305fba90",
   "metadata": {},
   "outputs": [],
   "source": []
  }
 ],
 "metadata": {
  "kernelspec": {
   "display_name": "Python 3 (ipykernel)",
   "language": "python",
   "name": "python3"
  },
  "language_info": {
   "codemirror_mode": {
    "name": "ipython",
    "version": 3
   },
   "file_extension": ".py",
   "mimetype": "text/x-python",
   "name": "python",
   "nbconvert_exporter": "python",
   "pygments_lexer": "ipython3",
   "version": "3.9.7"
  }
 },
 "nbformat": 4,
 "nbformat_minor": 5
}
