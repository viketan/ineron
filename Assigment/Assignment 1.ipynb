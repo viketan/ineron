{
 "cells": [
  {
   "cell_type": "markdown",
   "id": "fd1bb4fb",
   "metadata": {},
   "source": [
    "1. In the below elements which of them are values or an expression? eg:- values can be integer or string and expressions will be mathematical operators.\n",
    "Ans: * - Expression\n",
    "'hello'- Value\n",
    "-87.8 - Value\n",
    " /    - Expression\n",
    "+\t  - Expression\n",
    "6     - value"
   ]
  },
  {
   "cell_type": "markdown",
   "id": "75281366",
   "metadata": {},
   "source": [
    "2. What is the difference between string and variable?\n",
    "Ans: String is the array of characters eg. Str= “Hello”\n",
    "     Variable is the name given to memory location eg. Num=5"
   ]
  },
  {
   "cell_type": "markdown",
   "id": "c77812b6",
   "metadata": {},
   "source": [
    "3. Describe three different data types.\n",
    "Ans: Int - to store interger value eg. num=5\n",
    "     Float - to store decimal value eg. num=5.8\n",
    "     bool - To store True or False eg. flag=True\n",
    "     str - To store text eg. str = 'viketan'"
   ]
  },
  {
   "cell_type": "markdown",
   "id": "c1dce8a2",
   "metadata": {},
   "source": [
    "4. What is an expression made up of? What do all expressions do?\n",
    "Ans: Expression is a combination of operands and operators. Expression is used to evaluate mathematical expression."
   ]
  },
  {
   "cell_type": "markdown",
   "id": "fb5c883e",
   "metadata": {},
   "source": [
    "5. This assignment statements, like spam = 10. What is the difference between an expression and a statement?\n",
    "Ans: statement - A statement is an instruction, an action or simply command.\n",
    "     expression - Expression is a combination of operands and operators that upon evaluate results in vlaue."
   ]
  },
  {
   "cell_type": "markdown",
   "id": "79ae3e48",
   "metadata": {},
   "source": [
    "6. After running the following code, what does the variable bacon contain?\n",
    "bacon = 22\n",
    "bacon + 1\n",
    "Ans: bacon value remains same i.e 22 as it not assigned after increment."
   ]
  },
  {
   "cell_type": "markdown",
   "id": "e08fdcc2",
   "metadata": {},
   "source": [
    "7. What should the values of the following two terms be?\n",
    "'spam' + 'spamspam'= 'spamspamspam'\n",
    "'spam' *3          ='spamspamspam'"
   ]
  },
  {
   "cell_type": "markdown",
   "id": "31aaa812",
   "metadata": {},
   "source": [
    "8. Why is eggs a valid variable name while 100 is invalid?\n",
    "Ans: 100 starts with nuberic value\n",
    "     eggs sarts with character"
   ]
  },
  {
   "cell_type": "markdown",
   "id": "30e1d40f",
   "metadata": {},
   "source": [
    "9. What three functions can be used to get the integer, floating-point number, or string version of a value?\n",
    "Ans: Typecasting\n",
    "     num= int(9.5)\n",
    "     num= float(9.5)\n",
    "     num= str(9.5)"
   ]
  },
  {
   "cell_type": "markdown",
   "id": "3d3abac2",
   "metadata": {},
   "source": [
    "10. Why does this expression cause an error? How can you fix it?\n",
    "'I have eaten ' + 99 + ' burritos.'"
   ]
  },
  {
   "cell_type": "code",
   "execution_count": 6,
   "id": "886553ec",
   "metadata": {},
   "outputs": [
    {
     "data": {
      "text/plain": [
       "'I have eaten 99 burritos.'"
      ]
     },
     "execution_count": 6,
     "metadata": {},
     "output_type": "execute_result"
    }
   ],
   "source": [
    "'I have eaten ' + str(99)+ ' burritos.'"
   ]
  },
  {
   "cell_type": "code",
   "execution_count": null,
   "id": "b0b77d32",
   "metadata": {},
   "outputs": [],
   "source": []
  }
 ],
 "metadata": {
  "kernelspec": {
   "display_name": "Python 3 (ipykernel)",
   "language": "python",
   "name": "python3"
  },
  "language_info": {
   "codemirror_mode": {
    "name": "ipython",
    "version": 3
   },
   "file_extension": ".py",
   "mimetype": "text/x-python",
   "name": "python",
   "nbconvert_exporter": "python",
   "pygments_lexer": "ipython3",
   "version": "3.9.7"
  }
 },
 "nbformat": 4,
 "nbformat_minor": 5
}
