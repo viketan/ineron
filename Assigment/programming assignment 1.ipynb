{
 "cells": [
  {
   "cell_type": "code",
   "execution_count": 2,
   "id": "62dfc2ce",
   "metadata": {},
   "outputs": [],
   "source": [
    "# 1. Write a Python program to print \"Hello Python\"?"
   ]
  },
  {
   "cell_type": "code",
   "execution_count": 3,
   "id": "9826c270",
   "metadata": {},
   "outputs": [
    {
     "name": "stdout",
     "output_type": "stream",
     "text": [
      "Hello Python\n"
     ]
    }
   ],
   "source": [
    "print(\"Hello Python\")"
   ]
  },
  {
   "cell_type": "code",
   "execution_count": 4,
   "id": "849e4e97",
   "metadata": {},
   "outputs": [],
   "source": [
    "#2.Write a Python program to do arithmetical operations addition and division.?"
   ]
  },
  {
   "cell_type": "code",
   "execution_count": 6,
   "id": "bbb10226",
   "metadata": {},
   "outputs": [
    {
     "name": "stdout",
     "output_type": "stream",
     "text": [
      "Addition:  9\n",
      "Division:  2.0\n"
     ]
    }
   ],
   "source": [
    "num1 = 6 \n",
    "num2 = 3\n",
    "print(\"Addition: \",num1+num2)\n",
    "print(\"Division: \",num1/num2)"
   ]
  },
  {
   "cell_type": "code",
   "execution_count": 7,
   "id": "d598088d",
   "metadata": {},
   "outputs": [],
   "source": [
    "#3. Write a Python program to find the area of a triangle?"
   ]
  },
  {
   "cell_type": "code",
   "execution_count": 8,
   "id": "fc91a755",
   "metadata": {},
   "outputs": [
    {
     "name": "stdout",
     "output_type": "stream",
     "text": [
      "Area of Triangle:  20.0\n"
     ]
    }
   ],
   "source": [
    "base = 10\n",
    "height = 4\n",
    "Area = (base*height)/2\n",
    "print(\"Area of Triangle: \",Area)"
   ]
  },
  {
   "cell_type": "code",
   "execution_count": 9,
   "id": "d1bc5aca",
   "metadata": {},
   "outputs": [],
   "source": [
    "#4. Write a Python program to swap two variables?"
   ]
  },
  {
   "cell_type": "code",
   "execution_count": 10,
   "id": "dcb343f1",
   "metadata": {},
   "outputs": [
    {
     "name": "stdout",
     "output_type": "stream",
     "text": [
      "3\n",
      "6\n"
     ]
    }
   ],
   "source": [
    "num1 = 6 \n",
    "num2 = 3\n",
    "num1,num2= num2,num1\n",
    "print(num1)\n",
    "print(num2)"
   ]
  },
  {
   "cell_type": "code",
   "execution_count": 11,
   "id": "fdd9c264",
   "metadata": {},
   "outputs": [],
   "source": [
    "#5. Write a Python program to generate a random number?"
   ]
  },
  {
   "cell_type": "code",
   "execution_count": 18,
   "id": "e577f8e8",
   "metadata": {},
   "outputs": [
    {
     "name": "stdout",
     "output_type": "stream",
     "text": [
      "0.9648084055979199\n"
     ]
    }
   ],
   "source": [
    "from random import random\n",
    "num = random()\n",
    "print(num)"
   ]
  },
  {
   "cell_type": "code",
   "execution_count": null,
   "id": "c49ade4c",
   "metadata": {},
   "outputs": [],
   "source": []
  }
 ],
 "metadata": {
  "kernelspec": {
   "display_name": "Python 3 (ipykernel)",
   "language": "python",
   "name": "python3"
  },
  "language_info": {
   "codemirror_mode": {
    "name": "ipython",
    "version": 3
   },
   "file_extension": ".py",
   "mimetype": "text/x-python",
   "name": "python",
   "nbconvert_exporter": "python",
   "pygments_lexer": "ipython3",
   "version": "3.9.7"
  }
 },
 "nbformat": 4,
 "nbformat_minor": 5
}
