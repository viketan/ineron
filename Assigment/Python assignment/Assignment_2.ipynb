{
 "cells": [
  {
   "cell_type": "code",
   "execution_count": null,
   "id": "2f14a716",
   "metadata": {},
   "outputs": [],
   "source": [
    "#1.What are the two values of the Boolean data type? How do you write them?\n",
    "Ans: True and False"
   ]
  },
  {
   "cell_type": "code",
   "execution_count": null,
   "id": "10725a3b",
   "metadata": {},
   "outputs": [],
   "source": [
    "#2. What are the three different types of Boolean operators?\n",
    "Ans: not and or"
   ]
  },
  {
   "cell_type": "code",
   "execution_count": null,
   "id": "c5609201",
   "metadata": {},
   "outputs": [],
   "source": [
    "#3. Make a list of each Boolean operator's truth tables (i.e. every possible combination of Boolean values for the operator and what it evaluate ).\n",
    "Ans:  A     not A\n",
    "    False   True\n",
    "    True    False\n",
    "    \n",
    "    A       B     A and B\n",
    "    False   False   False\n",
    "    True    False   False\n",
    "    False   True    False\n",
    "    True    True    True\n",
    "    \n",
    "    \n",
    "       A    B      A or B\n",
    "    False   False   False\n",
    "    True    False   True\n",
    "    False   True    True\n",
    "    True    True    True"
   ]
  },
  {
   "cell_type": "code",
   "execution_count": null,
   "id": "e670be56",
   "metadata": {},
   "outputs": [],
   "source": [
    "#4. What are the values of the following expressions?\n",
    "(5 > 4) and (3 == 5)                 Ans: False\n",
    "not (5 > 4                           Ans: False\n",
    "(5 > 4) or (3 == 5)                  Ans: True \n",
    "not ((5 > 4) or (3 == 5))            Ans: False\n",
    "(True and True) and (True == False)  Ans: False\n",
    "(not False) or (not True)            Ans: True "
   ]
  },
  {
   "cell_type": "code",
   "execution_count": null,
   "id": "9ad4fc66",
   "metadata": {},
   "outputs": [],
   "source": [
    "#5.What are the six comparison operators?\n",
    "Ans: Python has six comparison operators: \n",
    "less than (<), \n",
    "less than or equal to (<=), \n",
    "greater than (>), \n",
    "greater than or equal to (>=), \n",
    "equal to (==), \n",
    "not equal to (!=)."
   ]
  },
  {
   "cell_type": "code",
   "execution_count": null,
   "id": "4e71cad9",
   "metadata": {},
   "outputs": [],
   "source": [
    "#6. How do you tell the difference between the equal to and assignment operators?Describe a condition and when you would use one.\n",
    "Ans:equal to(==) is contains two equal to symbol and assignemnet operator(=) has single equal to sign. \n",
    "    Equal to is to test condition whether they equal or not.\n",
    "    eg. if(num%2==0).\n",
    "    Assignment operator is used to assign a value to variable.\n",
    "    eg. num=5"
   ]
  },
  {
   "cell_type": "code",
   "execution_count": null,
   "id": "d6b6e249",
   "metadata": {},
   "outputs": [],
   "source": [
    "#7. Identify the three blocks in this code:"
   ]
  },
  {
   "cell_type": "code",
   "execution_count": null,
   "id": "ccf04bf9",
   "metadata": {},
   "outputs": [],
   "source": [
    "#block 1\n",
    "spam = 0\n",
    "if spam == 10:\n",
    "print('eggs')"
   ]
  },
  {
   "cell_type": "code",
   "execution_count": null,
   "id": "ee5a6bce",
   "metadata": {},
   "outputs": [],
   "source": [
    "#block 2\n",
    "if spam > 5:\n",
    "print(\"bacon\")"
   ]
  },
  {
   "cell_type": "code",
   "execution_count": null,
   "id": "4f985b1d",
   "metadata": {},
   "outputs": [],
   "source": [
    "#block 3\n",
    "print('ham')\n",
    "print('spam')\n",
    "print('spam')"
   ]
  },
  {
   "cell_type": "code",
   "execution_count": null,
   "id": "830ce7ad",
   "metadata": {},
   "outputs": [],
   "source": [
    "#8. Write code that prints Hello if 1 is stored in spam, prints Howdy if 2 is stored in spam, and prints Greetings! if anything else is stored in spam."
   ]
  },
  {
   "cell_type": "code",
   "execution_count": 2,
   "id": "396e95a7",
   "metadata": {},
   "outputs": [
    {
     "name": "stdout",
     "output_type": "stream",
     "text": [
      "5\n",
      "Greeting!\n"
     ]
    }
   ],
   "source": [
    "spam = int(input())\n",
    "if spam ==1:\n",
    "    print('Hello')\n",
    "elif(spam==2): \n",
    "    spam('Howdy')\n",
    "else:\n",
    "    print('Greeting!')"
   ]
  },
  {
   "cell_type": "code",
   "execution_count": null,
   "id": "05545015",
   "metadata": {},
   "outputs": [],
   "source": [
    "#9.If your programme is stuck in an endless loop, what keys you’ll press?\n",
    "Ans: Ctrl + C "
   ]
  },
  {
   "cell_type": "code",
   "execution_count": null,
   "id": "d1ebb730",
   "metadata": {},
   "outputs": [],
   "source": [
    "#10. How can you tell the difference between break and continue?\n",
    "Ans:The break statement terminates the loop containing it.\n",
    "    The continue statement is used to skip the rest of the code inside a loop for the current iteration only."
   ]
  },
  {
   "cell_type": "code",
   "execution_count": null,
   "id": "93f6ceb9",
   "metadata": {},
   "outputs": [],
   "source": [
    "#11. In a for loop, what is the difference between range(10), range(0, 10), and range(0, 10, 1)?\n",
    "Ans:They all do the same thing. \n",
    "    The range(10) call ranges from 0 up to (but not including) 10, \n",
    "    range(0,10) explicitly tells the loop to start at 0 ,\n",
    "    range (0,10,1) explicitly tells the loop to increase the variable by 1 on each iteration."
   ]
  },
  {
   "cell_type": "code",
   "execution_count": null,
   "id": "a49517bf",
   "metadata": {},
   "outputs": [],
   "source": [
    "#12. Write a short program that prints the numbers 1 to 10 using a for loop. Then write an equivalent program that prints the numbers 1 to 10 using a while loop."
   ]
  },
  {
   "cell_type": "code",
   "execution_count": 3,
   "id": "6c131803",
   "metadata": {},
   "outputs": [
    {
     "name": "stdout",
     "output_type": "stream",
     "text": [
      "1 2 3 4 5 6 7 8 9 10 "
     ]
    }
   ],
   "source": [
    "#for loop\n",
    "for num in range(1,11):\n",
    "    print(num,end=' ')"
   ]
  },
  {
   "cell_type": "code",
   "execution_count": 6,
   "id": "0d11f580",
   "metadata": {},
   "outputs": [
    {
     "name": "stdout",
     "output_type": "stream",
     "text": [
      "1 2 3 4 5 6 7 8 9 10 "
     ]
    }
   ],
   "source": [
    "#while loop\n",
    "num=1\n",
    "while num<=10:\n",
    "    print(num,end=' ')\n",
    "    num+=1"
   ]
  },
  {
   "cell_type": "code",
   "execution_count": null,
   "id": "48d3304f",
   "metadata": {},
   "outputs": [],
   "source": [
    "#13. If you had a function named bacon() inside a module named spam, how would you call it after importing spam?\n",
    "Ans:This function can be called with spam.bacon()"
   ]
  }
 ],
 "metadata": {
  "kernelspec": {
   "display_name": "Python 3 (ipykernel)",
   "language": "python",
   "name": "python3"
  },
  "language_info": {
   "codemirror_mode": {
    "name": "ipython",
    "version": 3
   },
   "file_extension": ".py",
   "mimetype": "text/x-python",
   "name": "python",
   "nbconvert_exporter": "python",
   "pygments_lexer": "ipython3",
   "version": "3.9.7"
  }
 },
 "nbformat": 4,
 "nbformat_minor": 5
}
