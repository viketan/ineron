{
 "cells": [
  {
   "cell_type": "code",
   "execution_count": 40,
   "id": "deb835c8",
   "metadata": {},
   "outputs": [
    {
     "name": "stdout",
     "output_type": "stream",
     "text": [
      "sum:  55\n"
     ]
    }
   ],
   "source": [
    "#1. Write a Python program to find sum of elements in list?\n",
    "l = [1,2,3,4,5,6,7,8,9,10]\n",
    "print(\"sum: \",sum(l))"
   ]
  },
  {
   "cell_type": "code",
   "execution_count": 41,
   "id": "c75d5481",
   "metadata": {},
   "outputs": [
    {
     "name": "stdout",
     "output_type": "stream",
     "text": [
      "product:  3628800\n"
     ]
    }
   ],
   "source": [
    "#2. Write a Python program to Multiply all numbers in the list?\n",
    "product=1\n",
    "for num in l:\n",
    "    product*=num\n",
    "print(\"product: \",product)"
   ]
  },
  {
   "cell_type": "code",
   "execution_count": 42,
   "id": "72efc2be",
   "metadata": {},
   "outputs": [
    {
     "name": "stdout",
     "output_type": "stream",
     "text": [
      "smallest number:  1\n"
     ]
    }
   ],
   "source": [
    "#3. Write a Python program to find smallest number in a list?\n",
    "print(\"smallest number: \",min(l))"
   ]
  },
  {
   "cell_type": "code",
   "execution_count": 43,
   "id": "90190add",
   "metadata": {},
   "outputs": [
    {
     "name": "stdout",
     "output_type": "stream",
     "text": [
      "largest number:  10\n"
     ]
    }
   ],
   "source": [
    "#4. Write a Python program to find largest number in a list?\n",
    "print(\"largest number: \",max(l))"
   ]
  },
  {
   "cell_type": "code",
   "execution_count": 44,
   "id": "99d72500",
   "metadata": {},
   "outputs": [
    {
     "name": "stdout",
     "output_type": "stream",
     "text": [
      "second largest:  9\n"
     ]
    }
   ],
   "source": [
    "#5. Write a Python program to find second largest number in a list?\n",
    "l = [1,2,3,4,5,6,7,8,9,10]\n",
    "l1=l\n",
    "l1.remove(max(l1))\n",
    "l1\n",
    "print(\"second largest: \",max(l1))"
   ]
  },
  {
   "cell_type": "code",
   "execution_count": 45,
   "id": "042be0e3",
   "metadata": {},
   "outputs": [
    {
     "name": "stdout",
     "output_type": "stream",
     "text": [
      "5 th largest number:  5\n"
     ]
    }
   ],
   "source": [
    "#6. Write a Python program to find N largest elements from a list?\n",
    "def Nlargest(l,N):\n",
    "    l1=l\n",
    "    for i in range(N):\n",
    "        l1.remove(max(l1))\n",
    "    return max(l1)\n",
    "\n",
    "l = [1,2,3,4,5,6,7,8,9,10]\n",
    "N=5\n",
    "print(N,\"th largest number: \",Nlargest(l,N))"
   ]
  },
  {
   "cell_type": "code",
   "execution_count": 46,
   "id": "18818a5b",
   "metadata": {},
   "outputs": [
    {
     "name": "stdout",
     "output_type": "stream",
     "text": [
      "even number: \n",
      "2 4 6 8 10 "
     ]
    }
   ],
   "source": [
    "#7. Write a Python program to print even numbers in a list?\n",
    "l = [1,2,3,4,5,6,7,8,9,10]\n",
    "print(\"even number: \")\n",
    "for num in l:\n",
    "    if num%2==0:\n",
    "        print(num,end=' ')"
   ]
  },
  {
   "cell_type": "code",
   "execution_count": 47,
   "id": "2bd8926d",
   "metadata": {},
   "outputs": [
    {
     "name": "stdout",
     "output_type": "stream",
     "text": [
      "odd number: \n",
      "1 3 5 7 9 "
     ]
    }
   ],
   "source": [
    "#8. Write a Python program to print odd numbers in a list?\n",
    "l = [1,2,3,4,5,6,7,8,9,10]\n",
    "print(\"odd number: \")\n",
    "for num in l:\n",
    "    if num%2!=0:\n",
    "        print(num,end=' ')"
   ]
  },
  {
   "cell_type": "code",
   "execution_count": 48,
   "id": "9c6dfbed",
   "metadata": {},
   "outputs": [
    {
     "data": {
      "text/plain": [
       "[[1, 2, 3, 4, 5], [6, 7, 8], [9, 10]]"
      ]
     },
     "execution_count": 48,
     "metadata": {},
     "output_type": "execute_result"
    }
   ],
   "source": [
    "#9. Write a Python program to Remove empty List from List?\n",
    "l = [[1,2,3,4,5],[],[6,7,8],[],[9,10]]\n",
    "res = [ele for ele in l if ele != []]\n",
    "res"
   ]
  },
  {
   "cell_type": "code",
   "execution_count": 49,
   "id": "9d31281a",
   "metadata": {},
   "outputs": [
    {
     "data": {
      "text/plain": [
       "[1, 2, 3, 4, 5, 6, 7, 8, 9, 10]"
      ]
     },
     "execution_count": 49,
     "metadata": {},
     "output_type": "execute_result"
    }
   ],
   "source": [
    "#10. Write a Python program to Cloning or Copying a list?\n",
    "l = [1,2,3,4,5,6,7,8,9,10]\n",
    "l_copy=l.copy()\n",
    "l_copy"
   ]
  },
  {
   "cell_type": "code",
   "execution_count": 50,
   "id": "f5ade0c4",
   "metadata": {},
   "outputs": [
    {
     "data": {
      "text/plain": [
       "{1: 2, 2: 1, 3: 1, 4: 1, 5: 4, 6: 1, 7: 1, 8: 1, 9: 3, 10: 1}"
      ]
     },
     "execution_count": 50,
     "metadata": {},
     "output_type": "execute_result"
    }
   ],
   "source": [
    "#11. Write a Python program to Count occurrences of an element in a list?\n",
    "l = [1,1,2,3,4,5,5,5,5,6,7,8,9,9,9,10]\n",
    "d = {}\n",
    "for num in l:\n",
    "    if num in d.keys():\n",
    "        d[num]=d[num]+1\n",
    "    else:\n",
    "        d[num]=1\n",
    "d"
   ]
  },
  {
   "cell_type": "code",
   "execution_count": null,
   "id": "93fb12dd",
   "metadata": {},
   "outputs": [],
   "source": []
  }
 ],
 "metadata": {
  "kernelspec": {
   "display_name": "Python 3 (ipykernel)",
   "language": "python",
   "name": "python3"
  },
  "language_info": {
   "codemirror_mode": {
    "name": "ipython",
    "version": 3
   },
   "file_extension": ".py",
   "mimetype": "text/x-python",
   "name": "python",
   "nbconvert_exporter": "python",
   "pygments_lexer": "ipython3",
   "version": "3.9.7"
  }
 },
 "nbformat": 4,
 "nbformat_minor": 5
}
