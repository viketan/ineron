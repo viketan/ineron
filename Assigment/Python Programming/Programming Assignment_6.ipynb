{
 "cells": [
  {
   "cell_type": "code",
   "execution_count": 4,
   "id": "69175ebf",
   "metadata": {},
   "outputs": [],
   "source": [
    "#1. Write a Python Program to Display Fibonacci Sequence Using Recursion?"
   ]
  },
  {
   "cell_type": "code",
   "execution_count": 5,
   "id": "3e0e9a0e",
   "metadata": {},
   "outputs": [
    {
     "name": "stdout",
     "output_type": "stream",
     "text": [
      "Enter number of terms:5\n",
      "Fibonacci sequence:\n",
      "0 1 1 2 3 "
     ]
    }
   ],
   "source": [
    "def fibonacci(n):\n",
    "    if(n <= 1):\n",
    "        return n\n",
    "    else:\n",
    "        return(fibonacci(n-1) + fibonacci(n-2))\n",
    "n = int(input(\"Enter number of terms:\"))\n",
    "print(\"Fibonacci sequence:\")\n",
    "for i in range(n):\n",
    "    print(fibonacci(i),end=' ')"
   ]
  },
  {
   "cell_type": "code",
   "execution_count": null,
   "id": "c12025d2",
   "metadata": {},
   "outputs": [],
   "source": [
    "#2. Write a Python Program to Find Factorial of Number Using Recursion?"
   ]
  },
  {
   "cell_type": "code",
   "execution_count": 6,
   "id": "41f48e06",
   "metadata": {},
   "outputs": [
    {
     "name": "stdout",
     "output_type": "stream",
     "text": [
      "Enter number:5\n",
      "Factorial:\n",
      "120\n"
     ]
    }
   ],
   "source": [
    "def factorial(n):\n",
    "    if n == 1 or n==0:\n",
    "        return 1\n",
    "    else:\n",
    "        return n*factorial(n-1)\n",
    "n = int(input(\"Enter number:\"))\n",
    "print(\"Factorial:\")\n",
    "print(factorial(n))"
   ]
  },
  {
   "cell_type": "code",
   "execution_count": null,
   "id": "2363f3e9",
   "metadata": {},
   "outputs": [],
   "source": [
    "#3. Write a Python Program to calculate your Body Mass Index?"
   ]
  },
  {
   "cell_type": "code",
   "execution_count": 12,
   "id": "6a53bd28",
   "metadata": {},
   "outputs": [
    {
     "name": "stdout",
     "output_type": "stream",
     "text": [
      "Enter mass: 60\n",
      "Enter height: 1.5\n",
      "BMI: 26.666666666666668\n"
     ]
    }
   ],
   "source": [
    "mass = float(input(\"Enter mass: \"))\n",
    "height = float(input(\"Enter height: \"))\n",
    "if height<0:\n",
    "    print(\"Invialid Input\")\n",
    "BMI = mass/(height**2)\n",
    "print(\"BMI:\",BMI)"
   ]
  },
  {
   "cell_type": "code",
   "execution_count": null,
   "id": "e13c2530",
   "metadata": {},
   "outputs": [],
   "source": [
    "#4. Write a Python Program to calculate the natural logarithm of any number?"
   ]
  },
  {
   "cell_type": "code",
   "execution_count": 13,
   "id": "05a366f7",
   "metadata": {},
   "outputs": [
    {
     "name": "stdout",
     "output_type": "stream",
     "text": [
      "Enter number: 5\n",
      "natural log:  1.6094379124341003\n"
     ]
    }
   ],
   "source": [
    "import math\n",
    "num = int(input(\"Enter number: \"))\n",
    "print(\"natural log: \",math.log(num))"
   ]
  },
  {
   "cell_type": "code",
   "execution_count": null,
   "id": "5e5e8f15",
   "metadata": {},
   "outputs": [],
   "source": [
    "#5. Write a Python Program for cube sum of first n natural numbers?"
   ]
  },
  {
   "cell_type": "code",
   "execution_count": 15,
   "id": "464d0789",
   "metadata": {},
   "outputs": [
    {
     "name": "stdout",
     "output_type": "stream",
     "text": [
      "Enter number: 5\n",
      "sum: 225\n"
     ]
    }
   ],
   "source": [
    "num = int(input(\"Enter number: \"))\n",
    "sum=0\n",
    "for i in range(1,n+1):\n",
    "    sum+=i**3\n",
    "print(\"sum:\", sum)"
   ]
  },
  {
   "cell_type": "code",
   "execution_count": null,
   "id": "66a712eb",
   "metadata": {},
   "outputs": [],
   "source": []
  }
 ],
 "metadata": {
  "kernelspec": {
   "display_name": "Python 3 (ipykernel)",
   "language": "python",
   "name": "python3"
  },
  "language_info": {
   "codemirror_mode": {
    "name": "ipython",
    "version": 3
   },
   "file_extension": ".py",
   "mimetype": "text/x-python",
   "name": "python",
   "nbconvert_exporter": "python",
   "pygments_lexer": "ipython3",
   "version": "3.9.7"
  }
 },
 "nbformat": 4,
 "nbformat_minor": 5
}
