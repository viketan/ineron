{
 "cells": [
  {
   "cell_type": "code",
   "execution_count": 13,
   "id": "e142a0a3",
   "metadata": {},
   "outputs": [
    {
     "name": "stdout",
     "output_type": "stream",
     "text": [
      "enter number: 175\n",
      "Is  175 Disarium number:  True\n"
     ]
    }
   ],
   "source": [
    "#1. Write a Python program to check if the given number is a Disarium Number?\n",
    "def isDisariumNumber(num):\n",
    "    temp = 0\n",
    "    numstr =str(num)\n",
    "    for i in range(len(numstr)):\n",
    "        digit=int(numstr[i])\n",
    "        temp+=digit**(i+1)\n",
    "    if temp== num:\n",
    "        return True\n",
    "    else:\n",
    "        return False\n",
    "num=int(input(\"enter number: \"))\n",
    "print(\"Is \",num,\"Disarium number: \",isDisariumNumber(num))"
   ]
  },
  {
   "cell_type": "code",
   "execution_count": 17,
   "id": "7b9fb0d2",
   "metadata": {},
   "outputs": [
    {
     "name": "stdout",
     "output_type": "stream",
     "text": [
      "All disarium numbers between 1 to 100\n",
      "1 2 3 4 5 6 7 8 9 89 "
     ]
    }
   ],
   "source": [
    "#2. Write a Python program to print all disarium numbers between 1 to 100?\n",
    "print(\"All disarium numbers between 1 to 100\")\n",
    "for num in range(1,101):\n",
    "    if isDisariumNumber(num):\n",
    "        print(num,end=' ')"
   ]
  },
  {
   "cell_type": "code",
   "execution_count": 49,
   "id": "568b7653",
   "metadata": {},
   "outputs": [
    {
     "name": "stdout",
     "output_type": "stream",
     "text": [
      "enter number: 19\n",
      "Is  19 Happy number:  True\n"
     ]
    }
   ],
   "source": [
    "def numSquareSum(n):\n",
    "    n=str(n)\n",
    "    sum=0\n",
    "    for i in range(len(n)):\n",
    "        num=int(n[i])\n",
    "        sum+=(num**2)\n",
    "    return sum\n",
    "    \n",
    "def isHappyNumber(n):\n",
    "    st=list()\n",
    "    while (True):\n",
    "        if  n in st:\n",
    "            return False\n",
    "        st.append(n)\n",
    "        n = numSquareSum(n)\n",
    "        if (n == 1):\n",
    "            return True\n",
    "        \n",
    "num=int(input(\"enter number: \"))\n",
    "print(\"Is \",num,\"Happy number: \",isHappyNumber(num))"
   ]
  },
  {
   "cell_type": "code",
   "execution_count": 50,
   "id": "ba2cae13",
   "metadata": {},
   "outputs": [
    {
     "name": "stdout",
     "output_type": "stream",
     "text": [
      "All happy numbers between 1 to 100\n",
      "1 7 10 13 19 23 28 31 32 44 49 68 70 79 82 86 91 94 97 100 "
     ]
    }
   ],
   "source": [
    "#4. Write a Python program to print all happy numbers between 1 and 100?\n",
    "print(\"All happy numbers between 1 to 100\")\n",
    "for num in range(1,101):\n",
    "    if isHappyNumber(num):\n",
    "        print(num,end=' ')"
   ]
  },
  {
   "cell_type": "code",
   "execution_count": 43,
   "id": "d9f64903",
   "metadata": {},
   "outputs": [
    {
     "name": "stdout",
     "output_type": "stream",
     "text": [
      "enter number: 21\n",
      "Is  21 Harshad number:  True\n"
     ]
    }
   ],
   "source": [
    "#5. Write a Python program to determine whether the given number is a Harshad Number?\n",
    "def isHarshadNumber(n):\n",
    "    n=str(n)\n",
    "    sum=0\n",
    "    for i in range(len(n)):\n",
    "        num=int(n[i])\n",
    "        sum+=num\n",
    "    if int(n)%sum==0:\n",
    "        return True\n",
    "    else:\n",
    "        return False\n",
    "num=int(input(\"enter number: \"))\n",
    "print(\"Is \",num,\"Harshad number: \",isHarshadNumber(num))"
   ]
  },
  {
   "cell_type": "code",
   "execution_count": 44,
   "id": "4e693945",
   "metadata": {},
   "outputs": [
    {
     "name": "stdout",
     "output_type": "stream",
     "text": [
      "All happy numbers between 1 to 100\n",
      "1 2 3 4 5 6 7 8 9 10 12 18 20 21 24 27 30 36 40 42 45 48 50 54 60 63 70 72 80 81 84 90 100 "
     ]
    }
   ],
   "source": [
    "#6. Write a Python program to print all pronic numbers between 1 and 100?\n",
    "print(\"All happy numbers between 1 to 100\")\n",
    "for num in range(1,101):\n",
    "    if isHarshadNumber(num):\n",
    "        print(num,end=' ')"
   ]
  }
 ],
 "metadata": {
  "kernelspec": {
   "display_name": "Python 3 (ipykernel)",
   "language": "python",
   "name": "python3"
  },
  "language_info": {
   "codemirror_mode": {
    "name": "ipython",
    "version": 3
   },
   "file_extension": ".py",
   "mimetype": "text/x-python",
   "name": "python",
   "nbconvert_exporter": "python",
   "pygments_lexer": "ipython3",
   "version": "3.9.7"
  }
 },
 "nbformat": 4,
 "nbformat_minor": 5
}
