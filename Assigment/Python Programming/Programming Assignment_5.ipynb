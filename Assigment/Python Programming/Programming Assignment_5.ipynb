{
 "cells": [
  {
   "cell_type": "code",
   "execution_count": null,
   "id": "e2e80c5b",
   "metadata": {},
   "outputs": [],
   "source": [
    "#1. Write a Python Program to Find LCM?"
   ]
  },
  {
   "cell_type": "code",
   "execution_count": 2,
   "id": "f2b462d2",
   "metadata": {},
   "outputs": [
    {
     "name": "stdout",
     "output_type": "stream",
     "text": [
      "15\n",
      "20\n",
      "60.0\n"
     ]
    }
   ],
   "source": [
    "def gcd(a,b):\n",
    "    if a == 0:\n",
    "        return b\n",
    "    return gcd(b % a, a)\n",
    "\n",
    "a = int(input())\n",
    "b = int(input())\n",
    "lcm = (a / gcd(a,b))* b\n",
    "print(lcm)"
   ]
  },
  {
   "cell_type": "code",
   "execution_count": 4,
   "id": "b360ac59",
   "metadata": {},
   "outputs": [
    {
     "name": "stdout",
     "output_type": "stream",
     "text": [
      "15\n",
      "20\n",
      "5\n"
     ]
    }
   ],
   "source": [
    "#2. Write a Python Program to Find HCF?\n",
    "a = int(input())\n",
    "b = int(input())\n",
    "hfc = gcd(a,b)\n",
    "print(hfc)"
   ]
  },
  {
   "cell_type": "code",
   "execution_count": null,
   "id": "58bfa595",
   "metadata": {},
   "outputs": [],
   "source": [
    "#3. Write a Python Program to Convert Decimal to Binary, Octal and Hexadecimal?"
   ]
  },
  {
   "cell_type": "code",
   "execution_count": 6,
   "id": "f4b23215",
   "metadata": {},
   "outputs": [
    {
     "name": "stdout",
     "output_type": "stream",
     "text": [
      "100\n",
      "1100100"
     ]
    }
   ],
   "source": [
    "def decimal_to_binary(num):\n",
    "    l=[]\n",
    "    while num>0:\n",
    "        binary=num%2\n",
    "        num=num//2\n",
    "        l.append(binary)\n",
    "    return l[::-1]\n",
    "num = int(input())\n",
    "binarylist=decimal_to_binary(num)\n",
    "for i in binarylist:\n",
    "    print(i,end='')"
   ]
  },
  {
   "cell_type": "code",
   "execution_count": 23,
   "id": "9e0c77f2",
   "metadata": {},
   "outputs": [
    {
     "name": "stdout",
     "output_type": "stream",
     "text": [
      "569\n",
      "1071"
     ]
    }
   ],
   "source": [
    "def decimal_to_octal(num):\n",
    "    l=[]\n",
    "    while num>0:\n",
    "        octal=num%8\n",
    "        num=num//8\n",
    "        l.append(octal)\n",
    "    return l[::-1]\n",
    "num = int(input())\n",
    "octallist=decimal_to_octal(num)\n",
    "for i in octallist:\n",
    "    print(i,end='')"
   ]
  },
  {
   "cell_type": "code",
   "execution_count": 30,
   "id": "f5f7f222",
   "metadata": {},
   "outputs": [
    {
     "name": "stdout",
     "output_type": "stream",
     "text": [
      "450\n",
      "1c2"
     ]
    }
   ],
   "source": [
    "def decimal_to_hexa(num):\n",
    "    l=[]\n",
    "    while num>0:\n",
    "        hexa=num%16\n",
    "        num=num//16\n",
    "        if hexa>9:\n",
    "            hexa-=9\n",
    "            hexa=chr(hexa+96)\n",
    "        l.append(hexa)\n",
    "    return l[::-1]\n",
    "num = int(input())\n",
    "hexalist=decimal_to_hexa(num)\n",
    "for i in hexalist:\n",
    "    print(i,end='')"
   ]
  },
  {
   "cell_type": "code",
   "execution_count": null,
   "id": "57510733",
   "metadata": {},
   "outputs": [],
   "source": [
    "#4. Write a Python Program To Find ASCII value of a character?"
   ]
  },
  {
   "cell_type": "code",
   "execution_count": 32,
   "id": "b576b98f",
   "metadata": {},
   "outputs": [
    {
     "name": "stdout",
     "output_type": "stream",
     "text": [
      "A\n",
      "65\n"
     ]
    }
   ],
   "source": [
    "char = input()\n",
    "print(ord(char))"
   ]
  },
  {
   "cell_type": "code",
   "execution_count": null,
   "id": "8643ec1d",
   "metadata": {},
   "outputs": [],
   "source": [
    "#5. Write a Python Program to Make a Simple Calculator with 4 basic mathematical operations?"
   ]
  },
  {
   "cell_type": "code",
   "execution_count": 5,
   "id": "4a7ac436",
   "metadata": {},
   "outputs": [
    {
     "name": "stdout",
     "output_type": "stream",
     "text": [
      "enter 2 number1 0\n",
      "enter operator/\n",
      "can't divide by zero\n"
     ]
    }
   ],
   "source": [
    "num1, num2 =input(\"enter 2 number\").split(' ')\n",
    "num1 = int(num1)\n",
    "num2 = int(num2)\n",
    "op=input(\"enter operator\")\n",
    "try:\n",
    "    if op=='+':\n",
    "        print(\"sum\",num1+num2)\n",
    "    elif op=='-':\n",
    "        print(\"subtract\",num1-num2)\n",
    "    elif op=='*':\n",
    "        print(\"product\",num1*num2)\n",
    "    elif op=='/':\n",
    "\n",
    "        print(\"Divide\",num1/num2)\n",
    "    else:\n",
    "        print(\"Invalid operator\")\n",
    "except:\n",
    "    print(\"can't divide by zero\")\n"
   ]
  },
  {
   "cell_type": "code",
   "execution_count": null,
   "id": "5b42db4e",
   "metadata": {},
   "outputs": [],
   "source": []
  }
 ],
 "metadata": {
  "kernelspec": {
   "display_name": "Python 3 (ipykernel)",
   "language": "python",
   "name": "python3"
  },
  "language_info": {
   "codemirror_mode": {
    "name": "ipython",
    "version": 3
   },
   "file_extension": ".py",
   "mimetype": "text/x-python",
   "name": "python",
   "nbconvert_exporter": "python",
   "pygments_lexer": "ipython3",
   "version": "3.9.7"
  }
 },
 "nbformat": 4,
 "nbformat_minor": 5
}
