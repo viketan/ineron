{
 "cells": [
  {
   "cell_type": "code",
   "execution_count": 1,
   "id": "f8382f0b",
   "metadata": {},
   "outputs": [
    {
     "name": "stdout",
     "output_type": "stream",
     "text": [
      "hello viketan "
     ]
    }
   ],
   "source": [
    "#1. Write a Python program to find words which are greater than given length k?\n",
    "l = ['abc','hello','viketan']\n",
    "k=4\n",
    "for s in l:\n",
    "    if len(s)>k:\n",
    "        print(s,end=' ')"
   ]
  },
  {
   "cell_type": "code",
   "execution_count": 5,
   "id": "16886a22",
   "metadata": {},
   "outputs": [
    {
     "data": {
      "text/plain": [
       "'viketn'"
      ]
     },
     "execution_count": 5,
     "metadata": {},
     "output_type": "execute_result"
    }
   ],
   "source": [
    "#2. Write a Python program for removing i-th character from a string?\n",
    "s = 'viketan'\n",
    "i = 5 \n",
    "new_s=''\n",
    "for j in range(len(s)):\n",
    "    if i==j:\n",
    "        pass\n",
    "    else:\n",
    "        new_s+=s[j]\n",
    "new_s"
   ]
  },
  {
   "cell_type": "code",
   "execution_count": 8,
   "id": "5bae051a",
   "metadata": {},
   "outputs": [
    {
     "data": {
      "text/plain": [
       "'hello_world'"
      ]
     },
     "execution_count": 8,
     "metadata": {},
     "output_type": "execute_result"
    }
   ],
   "source": [
    "#3. Write a Python program to split and join a string?\n",
    "s = 'hello world'\n",
    "char = '_'\n",
    "char.join(s.split(' '))"
   ]
  },
  {
   "cell_type": "code",
   "execution_count": 27,
   "id": "e5078aeb",
   "metadata": {},
   "outputs": [
    {
     "name": "stdout",
     "output_type": "stream",
     "text": [
      "binary\n"
     ]
    }
   ],
   "source": [
    "#4. Write a Python to check if a given string is binary string or not?\n",
    "binary = '01001'\n",
    "flag = True\n",
    "for i in range(len(binary)):\n",
    "    if binary[i] in ['0','1']:\n",
    "        flag = True\n",
    "    else:\n",
    "        flag = False\n",
    "        break\n",
    "if flag:\n",
    "    print('binary')\n",
    "else:\n",
    "    print('not binary')"
   ]
  },
  {
   "cell_type": "code",
   "execution_count": 10,
   "id": "9aff0dd2",
   "metadata": {},
   "outputs": [
    {
     "data": {
      "text/plain": [
       "['Viketan', 'world']"
      ]
     },
     "execution_count": 10,
     "metadata": {},
     "output_type": "execute_result"
    }
   ],
   "source": [
    "#5. Write a Python program to find uncommon words from two Strings?\n",
    "str1 = \"Hello world\"\n",
    "str2 = \"Hello Viketan\"\n",
    "l1 = str1.split(\" \")\n",
    "l2 = str2.split(\" \")\n",
    "union = l1+l2\n",
    "common = list(set(l1) & set(l2))\n",
    "uncommon = list(set(union) - set(common)) \n",
    "uncommon"
   ]
  },
  {
   "cell_type": "code",
   "execution_count": 16,
   "id": "bd20331f",
   "metadata": {},
   "outputs": [
    {
     "name": "stdout",
     "output_type": "stream",
     "text": [
      "duplicate characters in string: \n",
      "i s p "
     ]
    }
   ],
   "source": [
    "#6. Write a Python to find all duplicate characters in string?\n",
    "str='mississippi'\n",
    "d={}\n",
    "for i in range(len(str)):\n",
    "    if str[i] in d.keys():\n",
    "        d[str[i]]+=1\n",
    "    else:\n",
    "        d[str[i]]=1\n",
    "print(\"duplicate characters in string: \")\n",
    "for key,value in d.items():\n",
    "    if value>1:\n",
    "        print(key,end=' ')"
   ]
  },
  {
   "cell_type": "code",
   "execution_count": 23,
   "id": "a00c3743",
   "metadata": {},
   "outputs": [
    {
     "name": "stdout",
     "output_type": "stream",
     "text": [
      "Contains Special Characters.\n",
      "<re.Match object; span=(7, 8), match='@'>\n"
     ]
    }
   ],
   "source": [
    "#7. Write a Python Program to check if a string contains any special character?\n",
    "import re\n",
    "string_check= re.compile('[@_!#$%^&*()<>?/\\|}{~:]')\n",
    "test_string = \"viketan@123456789\"\n",
    "\n",
    "if(string_check.search(test_string) == None):\n",
    "    print(\"Contains NO Special Characters.\")\n",
    "else:\n",
    "    print(\"Contains Special Characters.\")\n",
    "    print(string_check.search(test_string))"
   ]
  },
  {
   "cell_type": "code",
   "execution_count": null,
   "id": "54ca4e85",
   "metadata": {},
   "outputs": [],
   "source": []
  }
 ],
 "metadata": {
  "kernelspec": {
   "display_name": "Python 3 (ipykernel)",
   "language": "python",
   "name": "python3"
  },
  "language_info": {
   "codemirror_mode": {
    "name": "ipython",
    "version": 3
   },
   "file_extension": ".py",
   "mimetype": "text/x-python",
   "name": "python",
   "nbconvert_exporter": "python",
   "pygments_lexer": "ipython3",
   "version": "3.9.7"
  }
 },
 "nbformat": 4,
 "nbformat_minor": 5
}
